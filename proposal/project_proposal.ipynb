{
 "cells": [
  {
   "cell_type": "markdown",
   "metadata": {},
   "source": [
    "## Task  \n",
    "Submit a project proposal (approximately 300 words) describing the following:  \n",
    "  \n",
    "Problem Statement: State the problem you intend to address.  \n",
    "Data Description: Describe the data source, number of features, examples, and the target variable you plan to analyze.  \n",
    "Methods: List the machine learning algorithms you are planning to apply  \n",
    "Evaluation: How do you intend to evaluate the results?  \n",
    "Add the link to the data."
   ]
  },
  {
   "cell_type": "markdown",
   "metadata": {},
   "source": [
    "## Project Propsal\n",
    "_Jakob Hutter_\n",
    "\n",
    "#### 1. Problem Statement\n",
    "In the world of pro cycling data analysis is becoming a more and more important and necessary tool for success. The most important races have been dominated since 2013 by a team called \"Sky-Ineos\" which drew its benefits from Data Science techniques.\n",
    "\n",
    "The problem for this project is to predict if a rider will participate in the tour de france next season. Interestingly this can be considered a time-series problem (rider development, trajectory, etc.) making it non-trivial, after consultation with Marti I will focus on time-series solutions if the trivial analysis takes less resources than expected. The problem of prediciting the outcome might not only depended of cylcists performance but also of his team, brand and season - making it interesting to see how models perform when ommiting those variables.\n",
    "\n",
    "\n",
    "#### 2. Data Description\n",
    "Data is scraped from _https://www.procyclingstats.com/_ with a self built module. Pro race cylcing is organized in a world wide \"championsleague\" and the participating teams are commercial, private owned clubs competing against each other, the \"world tour\" also works on point shema, where teams teams fight for relegation from and promotion to that team. The concept can be comparable to the Premier League in England, but on a global scale. Furhermroe points in this shema are earned through differen kind of races including one-day races and \"GC\" races, which go over multiple days, points get distributed for positionon in those races and the subcategories of \"overall win\", \"sprint\", \"climbin\", \"time trial\" and \"youth\". Team membership is crucial in cycling, as each team can send a limited amount of riders to each race (similiarly as each football team has 30 players but only 11 are allowed to be on the pitch).\n",
    "\n",
    "Data is strucutred:  \n",
    "- _rows_: riders info for one season (for example tadej pogacar 2019), all riders from world tour teams included\n",
    "- _columns_: riders team that season, rider name, height, weight, age, infos about race attanendanc, infos about points that the rider got till a certain point, and past performance information\n",
    "- _prediciton_: if rider attended in tour de france\n",
    "\n",
    "#### 3. Methods\n",
    "1. Classification Problem  \n",
    "The goal is to classify if a rider will participate. I will start by just testing different classification techniques we learned. then do hyperparamter tuning. also find out which variables are most influencal by using techniques of linear regression.\n",
    "2. Descriptive Clustering\n",
    "See what can be found out about riders when clustering them.\n",
    "#### 4. Evaluation\n",
    "Data 2010-2022 is training data, 2023 test data. Using that for evaluation."
   ]
  }
 ],
 "metadata": {
  "language_info": {
   "name": "python"
  }
 },
 "nbformat": 4,
 "nbformat_minor": 2
}
